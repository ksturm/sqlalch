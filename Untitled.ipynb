{
 "cells": [
  {
   "cell_type": "code",
   "execution_count": 1,
   "metadata": {},
   "outputs": [],
   "source": [
    "import datetime as dt\n",
    "import sqlalchemy\n",
    "from sqlalchemy.ext.automap import automap_base\n",
    "from sqlalchemy.orm import Session\n",
    "from sqlalchemy import create_engine, func, desc\n",
    "from flask import Flask, jsonify, request\n",
    "from werkzeug.wrappers import Request, Response"
   ]
  },
  {
   "cell_type": "code",
   "execution_count": 2,
   "metadata": {},
   "outputs": [],
   "source": [
    "engine = create_engine('sqlite:///Resources/hawaii.sqlite', echo=False)\n",
    "\n",
    "# Declare a Base using 'automap_base()'\n",
    "Base = automap_base()\n",
    "\n",
    "# Reflect Database into ORM classes\n",
    "Base.prepare(engine, reflect=True)\n",
    "\n",
    "# Save a reference to the measurenment table as 'Measurement'\n",
    "Measurement = Base.classes.measurement\n",
    "\n",
    "# Save a reference to the station table as 'Station'\n",
    "Station = Base.classes.station\n",
    "\n",
    "# Create our session (link) from Python to the DB\n",
    "session = Session(engine)"
   ]
  },
  {
   "cell_type": "code",
   "execution_count": 3,
   "metadata": {},
   "outputs": [],
   "source": [
    "app = Flask(__name__)"
   ]
  },
  {
   "cell_type": "code",
   "execution_count": 4,
   "metadata": {},
   "outputs": [],
   "source": [
    "@app.route(\"/\")\n",
    "\n",
    "def welcome():\n",
    "   \n",
    "    return (\n",
    "        \"<h1> Hawaii Precipitation and Weather Data</h1>\"\n",
    "        \n",
    "        \"<h3>Pick from the available routes below:</h3>\"\n",
    "        \n",
    "        \"Precipiation from 2016-08-23 to 2017-08-23.<br/>\"\n",
    "        \"<a target='_blank' href='http://localhost:9000/api/v1.0/precipitation'>Precipitation Data</a><br/><br/>\"\n",
    "        \n",
    "        \"A list of all the weather stations in Hawaii.<br/>\"\n",
    "        \"<a target='_blank'href= 'http://localhost:9000/api/v1.0/stations'>Weather Stations Data</a><br/><br/>\"\n",
    "        \n",
    "        \"The Temperature Observations (tobs) from 2016-08-23 to 2017-08-23.<br/>\"\n",
    "        \"<a target='_blank' href='http://localhost:9000/api/v1.0/tobs'>Temperature Observations Data</a><br/><br/>\"\n",
    "        \n",
    "        \"Type in a single date (i.e., 2017-02-24) to see the min, max and avg temperature since that date.<br/>\"\n",
    "        \"<form action='http://localhost:9000/api/v1.0/temp/' method='get'><input name='start' id='start' value='' placeholder='yyyy-mm-dd' ><div><button>Enter</button></div></form>\"\n",
    "        \n",
    "        \"Type in the start and end dates (i.e., 2016-08-23 and 2017-08-23) to see the min, max and avg temperature for that range.<br/>\"\n",
    "        \"<form action='http://localhost:9000/api/v1.0/temp-range/' method='get'> Start Date <input name='start' id='start' value='' placeholder='yyyy-mm-dd'>End Date <input name='end' id='end' value='' placeholder='yyyy-mm-dd'><div><button>Enter</button></div></form>\"\n",
    "        \n",
    "        \"<img src='http://www.kauai.com/blog/wp-content/uploads/2011/10/kauai-rainbow.jpg'>\"\n",
    "    )"
   ]
  },
  {
   "cell_type": "code",
   "execution_count": 5,
   "metadata": {},
   "outputs": [],
   "source": [
    "begin_date = dt.date(2017, 8, 23) - dt.timedelta(days=365)\n",
    "\n",
    "@app.route(\"/api/v1.0/precipitation\")\n",
    "\n",
    "def precipitation():\n",
    "\n",
    "    # Retrieve the last 12 months of precipitation data\n",
    "    results = session.query(Measurement.date, Measurement.prcp).\\\n",
    "                        filter(Measurement.date > begin_date).\\\n",
    "                        order_by(Measurement.date).all()\n",
    "\n",
    "    # Create a dictionary from the row data and append to a list of for the precipitation data\n",
    "    precipitation_data = []\n",
    "    for prcp_data in results:\n",
    "        prcp_data_dict = {}\n",
    "        prcp_data_dict[\"Date\"] = prcp_data.date\n",
    "        prcp_data_dict[\"Precipitation\"] = prcp_data.prcp\n",
    "        precipitation_data.append(prcp_data_dict)\n",
    "        \n",
    "\n",
    "    return jsonify(precipitation_data)"
   ]
  },
  {
   "cell_type": "code",
   "execution_count": 11,
   "metadata": {},
   "outputs": [],
   "source": [
    "@app.route(\"/api/v1.0/stations\")\n",
    "\n",
    "def stations():\n",
    "    \n",
    "    # Query all the stations\n",
    "    results = session.query(Station).all()\n",
    "\n",
    "    # Create a dictionary from the row data and append to a list of all_stations.\n",
    "    all_stations = []\n",
    "    for stations in results:\n",
    "        stations_dict = {}\n",
    "        stations_dict[\"Station\"] = stations.station\n",
    "        stations_dict[\"Station Name\"] = stations.name\n",
    "        stations_dict[\"Latitude\"] = stations.latitude\n",
    "        stations_dict[\"Longitude\"] = stations.longitude\n",
    "        stations_dict[\"Elevation\"] = stations.elevation\n",
    "        all_stations.append(stations_dict)\n",
    "    \n",
    "    return jsonify(all_stations)"
   ]
  },
  {
   "cell_type": "code",
   "execution_count": 7,
   "metadata": {},
   "outputs": [],
   "source": [
    "@app.route(\"/api/v1.0/tobs\")\n",
    "\n",
    "def tobs():\n",
    "    \n",
    "    # Query all the stations and for the given date. \n",
    "    results = session.query(Measurement.station, Measurement.date, Measurement.tobs).\\\n",
    "                    group_by(Measurement.date).\\\n",
    "                    filter(Measurement.date > begin_date).\\\n",
    "                    order_by(Measurement.station).all()\n",
    "                    \n",
    "    # Create a dictionary from the row data and append to a list of for the temperature data.\n",
    "    temp_data = []\n",
    "    for tobs_data in results:\n",
    "        tobs_data_dict = {}\n",
    "        tobs_data_dict[\"Station\"] = tobs_data.station\n",
    "        tobs_data_dict[\"Date\"] = tobs_data.date\n",
    "        tobs_data_dict[\"Temperature\"] = tobs_data.tobs\n",
    "        temp_data.append(tobs_data_dict)\n",
    "    \n",
    "    return jsonify(temp_data)"
   ]
  },
  {
   "cell_type": "code",
   "execution_count": 12,
   "metadata": {},
   "outputs": [
    {
     "ename": "SyntaxError",
     "evalue": "EOL while scanning string literal (<ipython-input-12-f270cc700415>, line 2)",
     "output_type": "error",
     "traceback": [
      "\u001b[1;36m  File \u001b[1;32m\"<ipython-input-12-f270cc700415>\"\u001b[1;36m, line \u001b[1;32m2\u001b[0m\n\u001b[1;33m    @app.routeroute((\"/api/v1.0/temp/\"\"/api/v1. , methods=['get'])\u001b[0m\n\u001b[1;37m                                                                  ^\u001b[0m\n\u001b[1;31mSyntaxError\u001b[0m\u001b[1;31m:\u001b[0m EOL while scanning string literal\n"
     ]
    }
   ],
   "source": [
    "\n",
    "@app.routeroute((\"/api/v1.0/temp/\"\"/api/v1. , methods=['get'])\n",
    "\n",
    "def start_stats(start=None):\n",
    "    \n",
    "    start = request.args.get('start')\n",
    "    \n",
    "    # Query all the stations and for the given date. \n",
    "    results = session.query(func.min(Measurement.tobs), func.max(Measurement.tobs),func.avg(Measurement.tobs)).\\\n",
    "    filter(Measurement.date >= start).all()\n",
    "\n",
    "    # Create a dictionary from the row data and append to a list of for the temperature data.\n",
    "    temp_stats = []\n",
    "    \n",
    "    for Tmin, Tmax, Tavg in results:\n",
    "        temp_stats_dict = {}\n",
    "        temp_stats_dict[\"Minimum Temp\"] = Tmin\n",
    "        temp_stats_dict[\"Maximum Temp\"] = Tmax\n",
    "        temp_stats_dict[\"Average Temp\"] = Tavg\n",
    "        temp_stats.append(temp_stats_dict)\n",
    "    \n",
    "    return jsonify(temp_stats)"
   ]
  },
  {
   "cell_type": "code",
   "execution_count": 13,
   "metadata": {},
   "outputs": [
    {
     "ename": "AssertionError",
     "evalue": "View function mapping is overwriting an existing endpoint function: calc_stats",
     "output_type": "error",
     "traceback": [
      "\u001b[1;31m---------------------------------------------------------------------------\u001b[0m",
      "\u001b[1;31mAssertionError\u001b[0m                            Traceback (most recent call last)",
      "\u001b[1;32m<ipython-input-13-9d70c019d42e>\u001b[0m in \u001b[0;36m<module>\u001b[1;34m()\u001b[0m\n\u001b[0;32m      1\u001b[0m \u001b[1;33m@\u001b[0m\u001b[0mapp\u001b[0m\u001b[1;33m.\u001b[0m\u001b[0mroute\u001b[0m\u001b[1;33m(\u001b[0m\u001b[1;34m\"/api/v1.0/temp-range/\"\u001b[0m\u001b[1;33m,\u001b[0m \u001b[0mmethods\u001b[0m\u001b[1;33m=\u001b[0m\u001b[1;33m[\u001b[0m\u001b[1;34m'get'\u001b[0m\u001b[1;33m]\u001b[0m\u001b[1;33m)\u001b[0m\u001b[1;33m\u001b[0m\u001b[0m\n\u001b[1;32m----> 2\u001b[1;33m \u001b[1;32mdef\u001b[0m \u001b[0mcalc_stats\u001b[0m\u001b[1;33m(\u001b[0m\u001b[0mstart\u001b[0m\u001b[1;33m=\u001b[0m\u001b[1;32mNone\u001b[0m\u001b[1;33m,\u001b[0m \u001b[0mend\u001b[0m\u001b[1;33m=\u001b[0m\u001b[1;32mNone\u001b[0m\u001b[1;33m)\u001b[0m\u001b[1;33m:\u001b[0m\u001b[1;33m\u001b[0m\u001b[0m\n\u001b[0m\u001b[0;32m      3\u001b[0m \u001b[1;33m\u001b[0m\u001b[0m\n\u001b[0;32m      4\u001b[0m     \u001b[0mstart\u001b[0m \u001b[1;33m=\u001b[0m \u001b[0mrequest\u001b[0m\u001b[1;33m.\u001b[0m\u001b[0margs\u001b[0m\u001b[1;33m.\u001b[0m\u001b[0mget\u001b[0m\u001b[1;33m(\u001b[0m\u001b[1;34m'start'\u001b[0m\u001b[1;33m)\u001b[0m\u001b[1;33m\u001b[0m\u001b[0m\n\u001b[0;32m      5\u001b[0m     \u001b[0mend\u001b[0m   \u001b[1;33m=\u001b[0m \u001b[0mrequest\u001b[0m\u001b[1;33m.\u001b[0m\u001b[0margs\u001b[0m\u001b[1;33m.\u001b[0m\u001b[0mget\u001b[0m\u001b[1;33m(\u001b[0m\u001b[1;34m'end'\u001b[0m\u001b[1;33m)\u001b[0m\u001b[1;33m\u001b[0m\u001b[0m\n",
      "\u001b[1;32m~\\Anaconda3\\envs\\PythonData\\lib\\site-packages\\flask\\app.py\u001b[0m in \u001b[0;36mdecorator\u001b[1;34m(f)\u001b[0m\n\u001b[0;32m   1248\u001b[0m         \u001b[1;32mdef\u001b[0m \u001b[0mdecorator\u001b[0m\u001b[1;33m(\u001b[0m\u001b[0mf\u001b[0m\u001b[1;33m)\u001b[0m\u001b[1;33m:\u001b[0m\u001b[1;33m\u001b[0m\u001b[0m\n\u001b[0;32m   1249\u001b[0m             \u001b[0mendpoint\u001b[0m \u001b[1;33m=\u001b[0m \u001b[0moptions\u001b[0m\u001b[1;33m.\u001b[0m\u001b[0mpop\u001b[0m\u001b[1;33m(\u001b[0m\u001b[1;34m'endpoint'\u001b[0m\u001b[1;33m,\u001b[0m \u001b[1;32mNone\u001b[0m\u001b[1;33m)\u001b[0m\u001b[1;33m\u001b[0m\u001b[0m\n\u001b[1;32m-> 1250\u001b[1;33m             \u001b[0mself\u001b[0m\u001b[1;33m.\u001b[0m\u001b[0madd_url_rule\u001b[0m\u001b[1;33m(\u001b[0m\u001b[0mrule\u001b[0m\u001b[1;33m,\u001b[0m \u001b[0mendpoint\u001b[0m\u001b[1;33m,\u001b[0m \u001b[0mf\u001b[0m\u001b[1;33m,\u001b[0m \u001b[1;33m**\u001b[0m\u001b[0moptions\u001b[0m\u001b[1;33m)\u001b[0m\u001b[1;33m\u001b[0m\u001b[0m\n\u001b[0m\u001b[0;32m   1251\u001b[0m             \u001b[1;32mreturn\u001b[0m \u001b[0mf\u001b[0m\u001b[1;33m\u001b[0m\u001b[0m\n\u001b[0;32m   1252\u001b[0m         \u001b[1;32mreturn\u001b[0m \u001b[0mdecorator\u001b[0m\u001b[1;33m\u001b[0m\u001b[0m\n",
      "\u001b[1;32m~\\Anaconda3\\envs\\PythonData\\lib\\site-packages\\flask\\app.py\u001b[0m in \u001b[0;36mwrapper_func\u001b[1;34m(self, *args, **kwargs)\u001b[0m\n\u001b[0;32m     64\u001b[0m                 \u001b[1;34m'database models and everything related at a central place '\u001b[0m\u001b[1;33m\u001b[0m\u001b[0m\n\u001b[0;32m     65\u001b[0m                 'before the application starts serving requests.')\n\u001b[1;32m---> 66\u001b[1;33m         \u001b[1;32mreturn\u001b[0m \u001b[0mf\u001b[0m\u001b[1;33m(\u001b[0m\u001b[0mself\u001b[0m\u001b[1;33m,\u001b[0m \u001b[1;33m*\u001b[0m\u001b[0margs\u001b[0m\u001b[1;33m,\u001b[0m \u001b[1;33m**\u001b[0m\u001b[0mkwargs\u001b[0m\u001b[1;33m)\u001b[0m\u001b[1;33m\u001b[0m\u001b[0m\n\u001b[0m\u001b[0;32m     67\u001b[0m     \u001b[1;32mreturn\u001b[0m \u001b[0mupdate_wrapper\u001b[0m\u001b[1;33m(\u001b[0m\u001b[0mwrapper_func\u001b[0m\u001b[1;33m,\u001b[0m \u001b[0mf\u001b[0m\u001b[1;33m)\u001b[0m\u001b[1;33m\u001b[0m\u001b[0m\n\u001b[0;32m     68\u001b[0m \u001b[1;33m\u001b[0m\u001b[0m\n",
      "\u001b[1;32m~\\Anaconda3\\envs\\PythonData\\lib\\site-packages\\flask\\app.py\u001b[0m in \u001b[0;36madd_url_rule\u001b[1;34m(self, rule, endpoint, view_func, provide_automatic_options, **options)\u001b[0m\n\u001b[0;32m   1219\u001b[0m             \u001b[1;32mif\u001b[0m \u001b[0mold_func\u001b[0m \u001b[1;32mis\u001b[0m \u001b[1;32mnot\u001b[0m \u001b[1;32mNone\u001b[0m \u001b[1;32mand\u001b[0m \u001b[0mold_func\u001b[0m \u001b[1;33m!=\u001b[0m \u001b[0mview_func\u001b[0m\u001b[1;33m:\u001b[0m\u001b[1;33m\u001b[0m\u001b[0m\n\u001b[0;32m   1220\u001b[0m                 raise AssertionError('View function mapping is overwriting an '\n\u001b[1;32m-> 1221\u001b[1;33m                                      'existing endpoint function: %s' % endpoint)\n\u001b[0m\u001b[0;32m   1222\u001b[0m             \u001b[0mself\u001b[0m\u001b[1;33m.\u001b[0m\u001b[0mview_functions\u001b[0m\u001b[1;33m[\u001b[0m\u001b[0mendpoint\u001b[0m\u001b[1;33m]\u001b[0m \u001b[1;33m=\u001b[0m \u001b[0mview_func\u001b[0m\u001b[1;33m\u001b[0m\u001b[0m\n\u001b[0;32m   1223\u001b[0m \u001b[1;33m\u001b[0m\u001b[0m\n",
      "\u001b[1;31mAssertionError\u001b[0m: View function mapping is overwriting an existing endpoint function: calc_stats"
     ]
    }
   ],
   "source": [
    "@app.route(\"/api/v1.0/temp-range/\", methods=['get'])\n",
    "def calc_stats(start=None, end=None):\n",
    "    \n",
    "    start = request.args.get('start')\n",
    "    end   = request.args.get('end') \n",
    "    \n",
    "    # Query all the stations and for the given range of dates. \n",
    "    results = session.query(func.min(Measurement.tobs), func.max(Measurement.tobs),func.avg(Measurement.tobs)).\\\n",
    "    filter(Measurement.date >= start).filter(Measurement.date <= end).all()\n",
    "\n",
    "    # Create a dictionary from the row data and append to a list of for the temperature data.\n",
    "    begin_end_stats = []\n",
    "    \n",
    "    for Tmin, Tmax, Tavg in results:\n",
    "        begin_end_stats_dict = {}\n",
    "        begin_end_stats_dict[\"Minimum Temp\"] = Tmin\n",
    "        begin_end_stats_dict[\"Maximum Temp\"] = Tmax\n",
    "        begin_end_stats_dict[\"Average Temp\"] = Tavg\n",
    "        begin_end_stats_dict['start']=start\n",
    "        begin_end_stats_dict['end']=end\n",
    "        begin_end_stats.append(begin_end_stats_dict)\n",
    "    \n",
    "    return jsonify(begin_end_stats)"
   ]
  },
  {
   "cell_type": "code",
   "execution_count": null,
   "metadata": {},
   "outputs": [],
   "source": []
  }
 ],
 "metadata": {
  "kernelspec": {
   "display_name": "Python 3",
   "language": "python",
   "name": "python3"
  },
  "language_info": {
   "codemirror_mode": {
    "name": "ipython",
    "version": 3
   },
   "file_extension": ".py",
   "mimetype": "text/x-python",
   "name": "python",
   "nbconvert_exporter": "python",
   "pygments_lexer": "ipython3",
   "version": "3.6.5"
  }
 },
 "nbformat": 4,
 "nbformat_minor": 2
}
